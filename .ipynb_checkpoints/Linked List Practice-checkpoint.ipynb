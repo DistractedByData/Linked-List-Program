{
 "cells": [
  {
   "cell_type": "markdown",
   "id": "6445e433",
   "metadata": {},
   "source": [
    "# Nodes and Linked Lists with Python\n",
    "\n",
    "Here I have defined a Node class. It consists of an initializer, two getter methods, and two setter methods. The initializer creates a node with a provided value and an optional next node. The two getter methods fetch the current node's value and the next node, respectively. The two setter methods, on the other hand, allow us to change the value of the node and its next node reference.\n",
    "\n",
    "In addition, I have also defined a LinkedList class. It too has an initializer, but this time, it creates a head node for creating a linked list. The class also includes getter and setter methods but specifically for the linked list as opposed to individual nodes. The getter method fetches the head node, and the setter allows us to insert a new head node with a given value. Furthermore, the LinkedList class includes methods to print the linked list and to remove a node by a given value."
   ]
  },
  {
   "cell_type": "code",
   "execution_count": 1,
   "id": "a7712105",
   "metadata": {},
   "outputs": [],
   "source": [
    "class Node:\n",
    "    \n",
    "    def __init__(self, value, next_node=None):\n",
    "        self.value = value\n",
    "        self.next_node = next_node\n",
    "    \n",
    "    def get_value(self):\n",
    "        return self.value\n",
    "    \n",
    "    def get_next_node(self):\n",
    "        return self.next_node\n",
    "    \n",
    "    def set_value(self, new_value):\n",
    "        self.value = new_value\n",
    "        \n",
    "    def set_next_node(self, next_node):\n",
    "        self.next_node = next_node"
   ]
  },
  {
   "cell_type": "code",
   "execution_count": 2,
   "id": "18927030",
   "metadata": {},
   "outputs": [],
   "source": [
    "class LinkedList:\n",
    "    \n",
    "    def __init__(self, value=None):\n",
    "        self.head_node = Node(value)\n",
    "\n",
    "    def get_head_node(self):\n",
    "        return self.head_node\n",
    "    \n",
    "    def new_head_node(self,new_value):\n",
    "        new_head = Node(new_value)\n",
    "        new_head.set_next_node(self.head_node)\n",
    "        self.head_node = new_head\n",
    "        \n",
    "    def print_list(self):\n",
    "        string_list = \"\"\n",
    "        current_node = self.get_head_node()\n",
    "        while current_node:\n",
    "            if current_node.get_value() != None:\n",
    "                string_list += str(current_node.get_value()) + \"\\n\"\n",
    "                current_node = current_node.get_next_node()\n",
    "        return string_list\n",
    "    \n",
    "    def remove_node(self, value_to_remove):\n",
    "        current_node = self.get_head_node()\n",
    "        if current_node.get_value() == value_to_remove:\n",
    "            self.head_node = current_node.get_next_node()\n",
    "        else:\n",
    "            while current_node:\n",
    "                next_node = current_node.get_next_node()\n",
    "                if next_node.get_value() == value_to_remove:\n",
    "                    current_node.set_next_node(next_node.get_next_node())\n",
    "                    current_node = None\n",
    "                else:\n",
    "                    current_node = next_node\n",
    "        return self.print_list()"
   ]
  },
  {
   "cell_type": "markdown",
   "id": "8798a7c9",
   "metadata": {},
   "source": [
    "## Node Object\n",
    "\n",
    "I will initialize an object from the Node class and perform each function."
   ]
  },
  {
   "cell_type": "code",
   "execution_count": 3,
   "id": "69cce143",
   "metadata": {},
   "outputs": [],
   "source": [
    "example_node = Node(10)"
   ]
  },
  {
   "cell_type": "code",
   "execution_count": 4,
   "id": "cde77bd1",
   "metadata": {},
   "outputs": [
    {
     "name": "stdout",
     "output_type": "stream",
     "text": [
      "<__main__.Node object at 0x111ff4b90>\n"
     ]
    }
   ],
   "source": [
    "# example_node is an instance of the Node class, printing it will not show us the attributes or properties.\n",
    "print(example_node)"
   ]
  },
  {
   "cell_type": "code",
   "execution_count": 5,
   "id": "a471594e",
   "metadata": {},
   "outputs": [
    {
     "name": "stdout",
     "output_type": "stream",
     "text": [
      "10\n"
     ]
    }
   ],
   "source": [
    "# To access the attributes I can use the functions, for example get_value()\n",
    "print(example_node.get_value())"
   ]
  },
  {
   "cell_type": "code",
   "execution_count": 11,
   "id": "ba25b8e1",
   "metadata": {},
   "outputs": [
    {
     "name": "stdout",
     "output_type": "stream",
     "text": [
      "11\n"
     ]
    }
   ],
   "source": [
    "# or set_value()\n",
    "example_node.set_value(11)\n",
    "print(example_node.get_value())"
   ]
  },
  {
   "cell_type": "markdown",
   "id": "669a19be",
   "metadata": {},
   "source": [
    "## Linked List Object\n",
    "\n",
    "Now I will make a list of ordered numbers, from 10 - 15."
   ]
  },
  {
   "cell_type": "code",
   "execution_count": 14,
   "id": "360f4b9b",
   "metadata": {},
   "outputs": [
    {
     "name": "stdout",
     "output_type": "stream",
     "text": [
      "15\n",
      "14\n",
      "13\n",
      "12\n",
      "11\n",
      "10\n",
      "\n"
     ]
    }
   ],
   "source": [
    "example_list = LinkedList(10)\n",
    "example_list.new_head_node(11)\n",
    "example_list.new_head_node(12)\n",
    "example_list.new_head_node(13)\n",
    "example_list.new_head_node(14)\n",
    "example_list.new_head_node(15)\n",
    "\n",
    "# To print the actual values, I will use the print_list() method defined in the LinkedList class\n",
    "print(example_list.print_list())"
   ]
  },
  {
   "cell_type": "markdown",
   "id": "afdd67c4",
   "metadata": {},
   "source": [
    "Now, let's remove a number using the remove_node() function"
   ]
  },
  {
   "cell_type": "code",
   "execution_count": 16,
   "id": "c5dd852d",
   "metadata": {},
   "outputs": [
    {
     "name": "stdout",
     "output_type": "stream",
     "text": [
      "15\n",
      "14\n",
      "12\n",
      "11\n",
      "10\n",
      "\n"
     ]
    }
   ],
   "source": [
    "example_list.remove_node(13)\n",
    "\n",
    "print(example_list.print_list())"
   ]
  },
  {
   "cell_type": "markdown",
   "id": "6eddac21",
   "metadata": {},
   "source": [
    "# Learning from the LinkedList and Node classes!\n",
    "\n",
    "By understanding the Node and LinkedList classes, their methods, and the principles of linked lists, I have gained a valuable foundation for implementing and utilizing linked lists in Python. These lessons can be applied to various scenarios where the dynamic management of data elements is required, such as implementing stacks, queues, or other data structures that rely on linked lists as their underlying structure.\n",
    "\n",
    "---\n",
    "\n",
    "## Summary:\n",
    "\n",
    "   ### Node class\n",
    "   The Node class is a fundamental building block of a linked list. It encapsulates the value of a node and maintains a reference to the next node in the list. By defining getter and setter methods, I can access and modify the attributes of a node. This abstraction allows us to create and manipulate individual nodes efficiently.\n",
    "\n",
    "   ### LinkedList class\n",
    "   The LinkedList class serves as a container for nodes, providing methods to manage the linked list as a whole. It maintains a reference to the head node, which is the entry point of the list. By implementing getter and setter methods specific to the linked list, I can perform operations like inserting a new head node, retrieving the head node, printing the list, and removing nodes based on a given value.\n",
    "\n",
    "   ### Insertion and Removal\n",
    "   Linked lists excel at dynamic insertion and removal of elements, unlike arrays or lists with fixed sizes. In this example, the new_head_node() method demonstrates the insertion of a new head node, effectively adding elements at the beginning of the list. On the other hand, the remove_node() method showcases the removal of a node based on a specified value, adjusting the references of the previous and next nodes accordingly.\n",
    "\n",
    "   ### Traversal and Printing\n",
    "   Traversing a linked list involves moving from one node to the next until the end of the list is reached. The print_list() method utilizes this traversal process to construct a string representation of the linked list, enabling us to visualize the elements in order. This highlights the importance of properly updating the next node references to maintain the integrity and order of the list.\n",
    "\n",
    "   ### Flexibility and Efficiency\n",
    "   Linked lists offer flexibility in terms of dynamic memory allocation, allowing nodes to be inserted or removed without the need for contiguous memory. Additionally, the efficiency of operations such as insertion and removal is generally better in linked lists compared to arrays, especially for large lists, as they involve updating node references rather than shifting elements."
   ]
  }
 ],
 "metadata": {
  "kernelspec": {
   "display_name": "Python 3 (ipykernel)",
   "language": "python",
   "name": "python3"
  },
  "language_info": {
   "codemirror_mode": {
    "name": "ipython",
    "version": 3
   },
   "file_extension": ".py",
   "mimetype": "text/x-python",
   "name": "python",
   "nbconvert_exporter": "python",
   "pygments_lexer": "ipython3",
   "version": "3.11.3"
  }
 },
 "nbformat": 4,
 "nbformat_minor": 5
}
